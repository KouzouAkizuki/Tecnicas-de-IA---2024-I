{
 "cells": [
  {
   "cell_type": "markdown",
   "metadata": {},
   "source": [
    "### **Taller 1 - Histogramas**\n",
    "\n",
    "#### **Integrantes**\n",
    "\n",
    "- Oscar Leonardo Riveros Perez\n",
    "\n",
    "- Yovany Esneider Vargas Gutierrez"
   ]
  },
  {
   "cell_type": "markdown",
   "metadata": {},
   "source": [
    "**a. Implementacion del filtro de Prewitt de 8 direcciones**"
   ]
  },
  {
   "cell_type": "code",
   "execution_count": 1,
   "metadata": {},
   "outputs": [],
   "source": [
    "import cv2\n",
    "from IPython.display import Image\n",
    "import numpy as np\n",
    "from matplotlib import pyplot as plt\n",
    "from prettytable import PrettyTable \n",
    "\n",
    "\n",
    "## pip install prettytable \n",
    "Mano_light  =   cv2.imread('Images/Img_Light_1.png',1)\n",
    "Mano_shadow =   cv2.imread('Images/Img_Outdoor_1.png',1)\n",
    "Mano        =   cv2.imread('Images/Img_Indoor_1.png',1)\n",
    "\n",
    "Mano_light_Gray  =   cv2.imread('Images/Img_Light_1.png',0)\n",
    "Mano_shadow_Gray =   cv2.imread('Images/Img_Outdoor_1.png',0)\n",
    "Mano_Gray        =   cv2.imread('Images/Img_Indoor_1.png',0)"
   ]
  },
  {
   "cell_type": "code",
   "execution_count": 3,
   "metadata": {},
   "outputs": [],
   "source": [
    "def Prewitt_Filter(Img_In):\n",
    "    Kernel_N=np.array([[-1,-1,-1],[1,-2,1],[1,1,1]])\n",
    "    Kernel_S=np.array([[1,1,1],[1,-2,1],[-1,-1,-1]])\n",
    "    Kernel_E=np.array([[1,1,-1],[1,-2,-1],[1,1,-1]])\n",
    "    Kernel_O=np.array([[-1,1,1],[-1,-2,1],[-1,1,1]])\n",
    "\n",
    "    Kernel_SO=np.array([[1,1,1],[-1,-2,1],[-1,-1,1]])   \n",
    "    Kernel_NO=np.array([[-1,-1,1],[-1,-2,1],[1,1,1]])   \n",
    "    Kernel_SE=np.array([[1,1,1],[1,-2,-1],[1,-1,-1]])   \n",
    "    Kernel_NE=np.array([[1,-1,-1],[1,-2,-1],[1,1,1]])   \n",
    "\n",
    "    Prewitt_N=cv2.filter2D(Img_In,-1,Kernel_N)\n",
    "    Prewitt_S=cv2.filter2D(Img_In,-1,Kernel_S)\n",
    "    Prewitt_E=cv2.filter2D(Img_In,-1,Kernel_E)\n",
    "    Prewitt_O=cv2.filter2D(Img_In,-1,Kernel_O)\n",
    "\n",
    "    Prewitt_SO=cv2.filter2D(Img_In,-1,Kernel_SO)\n",
    "    Prewitt_NO=cv2.filter2D(Img_In,-1,Kernel_NO)\n",
    "    Prewitt_SE=cv2.filter2D(Img_In,-1,Kernel_SE)\n",
    "    Prewitt_NE=cv2.filter2D(Img_In,-1,Kernel_NE)\n",
    "\n",
    "    return (Prewitt_N+Prewitt_S+Prewitt_E+Prewitt_O+Prewitt_SO+Prewitt_NO+Prewitt_SE+Prewitt_NE)\n",
    "\n",
    "Prewitt_Light   =   Prewitt_Filter(Mano_light)\n",
    "Prewitt_Shadow  =   Prewitt_Filter(Mano_shadow)\n",
    "Prewitt         =   Prewitt_Filter(Mano)\n",
    "\n",
    "Prewitt_Light_Gray   =   Prewitt_Filter(Mano_light_Gray)\n",
    "Prewitt_Shadow_Gray  =   Prewitt_Filter(Mano_shadow_Gray)\n",
    "Prewitt_Gray         =   Prewitt_Filter(Mano_Gray)\n",
    "\n",
    "# Muestra el filtro aplicado a imagenes en RGB\n",
    "cv2.imshow('Prewitt_Light',Prewitt_Light)\n",
    "cv2.imshow('Prewitt_Shadow',Prewitt_Shadow)\n",
    "cv2.imshow('Prewitt',Prewitt)\n",
    "\n",
    "cv2.waitKey(0)\n",
    "cv2.destroyAllWindows()\n",
    "\n",
    "# Muestra el filtro aplicado a imagenes en escala de grises\n",
    "cv2.imshow('Prewitt_Light_Gray',Prewitt_Light_Gray)\n",
    "cv2.imshow('Prewitt_Shadow_Gray',Prewitt_Shadow_Gray)\n",
    "cv2.imshow('Prewitt_Gray',Prewitt_Gray)\n",
    "\n",
    "cv2.waitKey(0)\n",
    "cv2.destroyAllWindows()"
   ]
  },
  {
   "cell_type": "markdown",
   "metadata": {},
   "source": [
    "**b. Funciones vistas en el taller**\n",
    "\n",
    "***1. Redimensionamiento***"
   ]
  },
  {
   "cell_type": "code",
   "execution_count": 3,
   "metadata": {},
   "outputs": [],
   "source": [
    "H,W = Mano.shape[:2]\n",
    "H_1=int(H/7)\n",
    "W_1=int(W/3)\n",
    "\n",
    "Mano_Nearest    =   cv2.resize(Mano,(W_1,H_1),cv2.INTER_NEAREST)\n",
    "Mano_Bilineal   =   cv2.resize(Mano,(W_1,H_1),cv2.INTER_LINEAR)\n",
    "Mano_Pixel_Area =   cv2.resize(Mano,(W_1,H_1),cv2.INTER_AREA)\n",
    "Mano_Bicubica   =   cv2.resize(Mano,(W_1,H_1),cv2.INTER_CUBIC)\n",
    "\n",
    "# Neares < Lineal < Area < Bicubic\n",
    "\n",
    "cv2.imshow('Mano_Nearest',Mano_Nearest)\n",
    "cv2.imshow('Mano_Bilineal',Mano_Bilineal)\n",
    "cv2.imshow('Mano_Pixel_Area',Mano_Pixel_Area)\n",
    "cv2.imshow('Mano_Bicubica',Mano_Bicubica)\n",
    "\n",
    "cv2.waitKey(0)\n",
    "cv2.destroyAllWindows()\n"
   ]
  },
  {
   "cell_type": "markdown",
   "metadata": {},
   "source": [
    "***2. Espacios de Color***"
   ]
  },
  {
   "cell_type": "code",
   "execution_count": 12,
   "metadata": {},
   "outputs": [
    {
     "ename": "AttributeError",
     "evalue": "module 'matplotlib.cm' has no attribute 'bgr'",
     "output_type": "error",
     "traceback": [
      "\u001b[1;31m---------------------------------------------------------------------------\u001b[0m",
      "\u001b[1;31mAttributeError\u001b[0m                            Traceback (most recent call last)",
      "Cell \u001b[1;32mIn[12], line 11\u001b[0m\n\u001b[0;32m      8\u001b[0m Mano_LUV        \u001b[38;5;241m=\u001b[39m   cv2\u001b[38;5;241m.\u001b[39mcvtColor(Mano, cv2\u001b[38;5;241m.\u001b[39mCOLOR_RGB2Luv)\n\u001b[0;32m     10\u001b[0m plt\u001b[38;5;241m.\u001b[39mfigure(\u001b[38;5;241m1\u001b[39m)\n\u001b[1;32m---> 11\u001b[0m plt\u001b[38;5;241m.\u001b[39msubplot(\u001b[38;5;241m421\u001b[39m), plt\u001b[38;5;241m.\u001b[39mimshow(Mano_BGR, cmap\u001b[38;5;241m=\u001b[39m\u001b[43mplt\u001b[49m\u001b[38;5;241;43m.\u001b[39;49m\u001b[43mcm\u001b[49m\u001b[38;5;241;43m.\u001b[39;49m\u001b[43mbgr\u001b[49m), plt\u001b[38;5;241m.\u001b[39mtitle(\u001b[38;5;124m'\u001b[39m\u001b[38;5;124mGris\u001b[39m\u001b[38;5;124m'\u001b[39m)\n\u001b[0;32m     12\u001b[0m plt\u001b[38;5;241m.\u001b[39msubplot(\u001b[38;5;241m422\u001b[39m), plt\u001b[38;5;241m.\u001b[39mimshow(Mano_BGR_565, cmap\u001b[38;5;241m=\u001b[39mplt\u001b[38;5;241m.\u001b[39mcm\u001b[38;5;241m.\u001b[39mbgr), plt\u001b[38;5;241m.\u001b[39mtitle(\u001b[38;5;124m'\u001b[39m\u001b[38;5;124mColor\u001b[39m\u001b[38;5;124m'\u001b[39m)\n\u001b[0;32m     13\u001b[0m plt\u001b[38;5;241m.\u001b[39msubplot(\u001b[38;5;241m423\u001b[39m), plt\u001b[38;5;241m.\u001b[39mimshow(Mano_XYZ, cmap\u001b[38;5;241m=\u001b[39mplt\u001b[38;5;241m.\u001b[39mcm\u001b[38;5;241m.\u001b[39mxyz), plt\u001b[38;5;241m.\u001b[39mtitle(\u001b[38;5;124m'\u001b[39m\u001b[38;5;124mColor\u001b[39m\u001b[38;5;124m'\u001b[39m)\n",
      "\u001b[1;31mAttributeError\u001b[0m: module 'matplotlib.cm' has no attribute 'bgr'"
     ]
    },
    {
     "data": {
      "image/png": "[encoded data removed]",
      "text/plain": [
       "<Figure size 640x480 with 1 Axes>"
      ]
     },
     "metadata": {},
     "output_type": "display_data"
    }
   ],
   "source": [
    "Mano_BGR        =   cv2.cvtColor(Mano, cv2.COLOR_RGB2BGR)\n",
    "Mano_BGR_565    =   cv2.cvtColor(Mano, cv2.COLOR_RGB2BGR565)\n",
    "Mano_XYZ        =   cv2.cvtColor(Mano, cv2.COLOR_RGB2XYZ)\n",
    "Mano_YCrCb      =   cv2.cvtColor(Mano, cv2.COLOR_RGB2YCrCb)\n",
    "Mano_HSV        =   cv2.cvtColor(Mano, cv2.COLOR_RGB2HSV)\n",
    "Mano_HLS        =   cv2.cvtColor(Mano, cv2.COLOR_RGB2HLS)\n",
    "Mano_LAB        =   cv2.cvtColor(Mano, cv2.COLOR_RGB2Lab)\n",
    "Mano_LUV        =   cv2.cvtColor(Mano, cv2.COLOR_RGB2Luv)\n",
    "list(plt.colormaps)\n",
    "plt.figure(1)\n",
    "plt.subplot(421), plt.imshow(Mano_BGR, cmap=plt.cm.bgr), plt.title('Gris')\n",
    "plt.subplot(422), plt.imshow(Mano_BGR_565, cmap=plt.cm.bgr), plt.title('Color')\n",
    "plt.subplot(423), plt.imshow(Mano_XYZ, cmap=plt.cm.xyz), plt.title('Color')\n"
   ]
  }
 ],
 "metadata": {
  "kernelspec": {
   "display_name": "Python 3",
   "language": "python",
   "name": "python3"
  },
  "language_info": {
   "codemirror_mode": {
    "name": "ipython",
    "version": 3
   },
   "file_extension": ".py",
   "mimetype": "text/x-python",
   "name": "python",
   "nbconvert_exporter": "python",
   "pygments_lexer": "ipython3",
   "version": "3.11.6"
  }
 },
 "nbformat": 4,
 "nbformat_minor": 2
}
