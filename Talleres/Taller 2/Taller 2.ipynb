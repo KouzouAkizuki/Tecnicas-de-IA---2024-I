{
 "cells": [
  {
   "cell_type": "markdown",
   "metadata": {},
   "source": [
    "### **Taller 1 - Histogramas**\n",
    "\n",
    "#### **Integrantes**\n",
    "\n",
    "- Oscar Leonardo Riveros Perez\n",
    "\n",
    "- Yovany Esneider Vargas Gutierrez"
   ]
  },
  {
   "cell_type": "markdown",
   "metadata": {},
   "source": [
    "**a. Implementacion del filtro de Prewitt de 8 direcciones**"
   ]
  },
  {
   "cell_type": "code",
   "execution_count": 1,
   "metadata": {},
   "outputs": [],
   "source": [
    "import cv2\n",
    "from IPython.display import Image\n",
    "import numpy as np\n",
    "from matplotlib import pyplot as plt\n",
    "from prettytable import PrettyTable \n",
    "\n",
    "\n",
    "## pip install prettytable \n",
    "Mano_light  =   cv2.imread('Images/Img_Light_1.png',0)\n",
    "Mano_shadow =   cv2.imread('Images/Img_Outdoor_1.png',0)\n",
    "Mano        =   cv2.imread('Images/Img_Indoor_1.png',0)"
   ]
  },
  {
   "cell_type": "code",
   "execution_count": 3,
   "metadata": {},
   "outputs": [],
   "source": [
    "def Prewitt_Filter(Img_In):\n",
    "    Kernel_N=np.array([[-1,-1,-1],[1,-2,1],[1,1,1]])\n",
    "    Kernel_S=np.array([[1,1,1],[1,-2,1],[-1,-1,-1]])\n",
    "    Kernel_E=np.array([[1,1,-1],[1,-2,-1],[1,1,-1]])\n",
    "    Kernel_O=np.array([[-1,1,1],[-1,-2,1],[-1,1,1]])\n",
    "\n",
    "    Kernel_SO=np.array([[1,1,1],[-1,-2,1],[-1,-1,1]])   \n",
    "    Kernel_NO=np.array([[-1,-1,1],[-1,-2,1],[1,1,1]])   \n",
    "    Kernel_SE=np.array([[1,1,1],[1,-2,-1],[1,-1,-1]])   \n",
    "    Kernel_NE=np.array([[1,-1,-1],[1,-2,-1],[1,1,1]])   \n",
    "\n",
    "    Prewitt_N=cv2.filter2D(Img_In,-1,Kernel_N)\n",
    "    Prewitt_S=cv2.filter2D(Img_In,-1,Kernel_S)\n",
    "    Prewitt_E=cv2.filter2D(Img_In,-1,Kernel_E)\n",
    "    Prewitt_O=cv2.filter2D(Img_In,-1,Kernel_O)\n",
    "\n",
    "    Prewitt_SO=cv2.filter2D(Img_In,-1,Kernel_SO)\n",
    "    Prewitt_NO=cv2.filter2D(Img_In,-1,Kernel_NO)\n",
    "    Prewitt_SE=cv2.filter2D(Img_In,-1,Kernel_SE)\n",
    "    Prewitt_NE=cv2.filter2D(Img_In,-1,Kernel_NE)\n",
    "\n",
    "    return (Prewitt_N+Prewitt_S+Prewitt_E+Prewitt_O+Prewitt_SO+Prewitt_NO+Prewitt_SE+Prewitt_NE)\n",
    "\n",
    "Prewitt_Light=Prewitt_Filter(Mano_light)\n",
    "Prewitt_Shadow=Prewitt_Filter(Mano_shadow)\n",
    "Prewitt=Prewitt_Filter(Mano)\n",
    "\n",
    "cv2.imshow('Prewitt_Light',Prewitt_Light)\n",
    "cv2.imshow('Prewitt_Shadow',Prewitt_Shadow)\n",
    "cv2.imshow('Prewitt',Prewitt)\n",
    "\n",
    "cv2.waitKey(0)\n",
    "cv2.destroyAllWindows()"
   ]
  },
  {
   "cell_type": "markdown",
   "metadata": {},
   "source": [
    "**b. Funciones vistas en el taller**"
   ]
  }
 ],
 "metadata": {
  "kernelspec": {
   "display_name": "Python 3",
   "language": "python",
   "name": "python3"
  },
  "language_info": {
   "codemirror_mode": {
    "name": "ipython",
    "version": 3
   },
   "file_extension": ".py",
   "mimetype": "text/x-python",
   "name": "python",
   "nbconvert_exporter": "python",
   "pygments_lexer": "ipython3",
   "version": "3.11.6"
  }
 },
 "nbformat": 4,
 "nbformat_minor": 2
}
