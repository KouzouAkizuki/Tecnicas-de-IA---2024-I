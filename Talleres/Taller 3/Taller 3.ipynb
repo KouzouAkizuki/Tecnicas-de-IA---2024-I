{
 "cells": [
  {
   "cell_type": "markdown",
   "metadata": {},
   "source": [
    "### **Taller 1 - Histogramas**\n",
    "\n",
    "#### **Integrantes**\n",
    "\n",
    "- Oscar Leonardo Riveros Perez\n",
    "\n",
    "- Yovany Esneider Vargas Gutierrez"
   ]
  },
  {
   "cell_type": "markdown",
   "metadata": {},
   "source": [
    "**a. Implementacion del Algoritmo de adelgazamiento**"
   ]
  },
  {
   "cell_type": "code",
   "execution_count": 41,
   "metadata": {},
   "outputs": [],
   "source": [
    "import cv2\n",
    "from IPython.display import Image\n",
    "import numpy as np\n",
    "from matplotlib import pyplot as plt\n",
    "from prettytable import PrettyTable \n",
    "\n",
    "\n",
    "## pip install prettytable \n",
    "Mano_light  =   cv2.imread('Images/Img_Light_1.png',1)\n",
    "Mano_shadow =   cv2.imread('Images/Img_Outdoor_1.png',1)\n",
    "Mano        =   cv2.imread('Images/Img_Indoor_1.png',1)\n",
    "\n",
    "Mano_light_Gray  =   cv2.imread('Images/Img_Light_1.png',0)\n",
    "Mano_shadow_Gray =   cv2.imread('Images/Img_Outdoor_1.png',0)\n",
    "Mano_Gray        =   cv2.imread('Images/Img_Indoor_1.png',0)\n"
   ]
  },
  {
   "cell_type": "code",
   "execution_count": 76,
   "metadata": {},
   "outputs": [
    {
     "name": "stdout",
     "output_type": "stream",
     "text": [
      "[[1 1 1 1 1 1 1 1 1 1 1]\n",
      " [1 1 1 1 1 1 1 1 1 0 0]\n",
      " [1 1 1 1 1 1 1 1 1 0 0]\n",
      " [1 1 1 1 1 1 1 1 1 0 0]\n",
      " [1 1 1 0 0 1 1 1 1 0 0]]\n"
     ]
    }
   ],
   "source": [
    "def Adelgazamiento(Imagen,Estructurante):\n",
    "    Hit_Miss=(np.logical_and(cv2.erode(Imagen,Estructurante,1),cv2.erode(~Imagen,~Estructurante,1)))\n",
    "    # Hit_Miss=cv2.morphologyEx(Imagen,cv2.MORPH_HITMISS,Estructurante)\n",
    "\n",
    "    return (np.logical_and(Imagen,~Hit_Miss)).astype('uint8')\n",
    "\n",
    "\n",
    "test=np.array([[1,1,1,1,1,1,1,1,1,1,1],[1,1,1,1,1,1,1,1,1,0,0],[1,1,1,1,1,1,1,1,1,0,0],[1,1,1,1,1,1,1,1,1,0,0],[1,1,1,0,0,1,1,1,1,0,0]]).astype('uint8')\n",
    "Est=np.array([[0,0,0],[0,1,0],[1,1,1]]).astype('uint8')\n",
    "\n",
    "xd=Adelgazamiento(test,Est)\n",
    "# print((test))\n",
    "print(xd)\n",
    "\n",
    "\n",
    "\n",
    "# print(cv2.getStructuringElement(cv2.MORPH_CROSS,(7,7),(-1,-1)))\n"
   ]
  },
  {
   "cell_type": "markdown",
   "metadata": {},
   "source": [
    "**b. Implementacion del Algoritmo de esqueleto**"
   ]
  },
  {
   "cell_type": "code",
   "execution_count": null,
   "metadata": {},
   "outputs": [],
   "source": []
  },
  {
   "cell_type": "markdown",
   "metadata": {},
   "source": [
    "**c. Funciones vistas en el taller**"
   ]
  },
  {
   "cell_type": "code",
   "execution_count": null,
   "metadata": {},
   "outputs": [],
   "source": []
  }
 ],
 "metadata": {
  "language_info": {
   "name": "python"
  }
 },
 "nbformat": 4,
 "nbformat_minor": 2
}
