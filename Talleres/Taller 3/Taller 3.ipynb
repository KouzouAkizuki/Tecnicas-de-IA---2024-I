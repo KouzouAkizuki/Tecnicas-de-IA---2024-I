{
 "cells": [
  {
   "cell_type": "markdown",
   "metadata": {},
   "source": [
    "### **Taller 1 - Histogramas**\n",
    "\n",
    "#### **Integrantes**\n",
    "\n",
    "- Oscar Leonardo Riveros Perez\n",
    "\n",
    "- Yovany Esneider Vargas Gutierrez"
   ]
  },
  {
   "cell_type": "markdown",
   "metadata": {},
   "source": [
    "**a. Implementacion del Algoritmo de adelgazamiento**"
   ]
  },
  {
   "cell_type": "code",
   "execution_count": 168,
   "metadata": {},
   "outputs": [],
   "source": [
    "import cv2\n",
    "from IPython.display import Image\n",
    "import numpy as np\n",
    "\n",
    "from matplotlib import pyplot as plt\n",
    "from prettytable import PrettyTable \n",
    "\n",
    "\n",
    "## pip install prettytable \n",
    "Mano_light  =   cv2.imread('Images/Img_Light_1.png',1)\n",
    "Mano_shadow =   cv2.imread('Images/Img_Outdoor_1.png',1)\n",
    "Mano        =   cv2.imread('Images/Img_Indoor_1.png',1)\n",
    "\n",
    "Mano_light_Gray  =   cv2.imread('Images/Img_Light_1.png',0)\n",
    "Mano_shadow_Gray =   cv2.imread('Images/Img_Outdoor_1.png',0)\n",
    "Mano_Gray        =   cv2.imread('Images/Img_Indoor_1.png',0)\n"
   ]
  },
  {
   "cell_type": "code",
   "execution_count": 189,
   "metadata": {},
   "outputs": [
    {
     "name": "stdout",
     "output_type": "stream",
     "text": [
      "[[  0   0   0   0   0   0   0   0   0   0   0   0   0]\n",
      " [  0 255   0   0   0   0   0   0   0 255 255 255   0]\n",
      " [  0 255 255   0   0   0   0   0 255 255   0   0   0]\n",
      " [  0   0 255 255 255 255 255 255 255   0   0   0   0]\n",
      " [  0 255 255   0   0   0   0   0 255   0   0   0   0]\n",
      " [  0 255   0   0   0   0   0   0 255 255   0   0   0]\n",
      " [  0   0   0   0   0   0   0   0   0   0   0   0   0]]\n"
     ]
    }
   ],
   "source": [
    "def Adelgazamiento(Imagen,Estructurante):\n",
    "    Hit_Miss=cv2.morphologyEx(Imagen,cv2.MORPH_HITMISS,Estructurante)\n",
    "    return (Imagen-Hit_Miss)\n",
    "\n",
    "def Adelgazamiento_Multiple(Imagen,Array):\n",
    "\n",
    "    result=Adelgazamiento(Imagen,Array[0])\n",
    "    for i in Array[1:]:\n",
    "        result=Adelgazamiento(result,i)\n",
    "\n",
    "    return result\n",
    "\n",
    "\n",
    "test=np.array(([0,0,0,0,0,0,0,0,0,0,0,0,0],\n",
    "               [0,1,1,1,1,1,1,1,1,1,1,1,0],\n",
    "               [0,1,1,1,1,1,1,1,1,1,0,0,0],\n",
    "               [0,1,1,1,1,1,1,1,1,1,0,0,0],\n",
    "               [0,1,1,1,1,1,1,1,1,1,0,0,0],\n",
    "               [0,1,1,1,0,0,1,1,1,1,0,0,0],\n",
    "               [0,0,0,0,0,0,0,0,0,0,0,0,0]),\n",
    "               dtype='uint8')\n",
    "test=test*255\n",
    "\n",
    "Est_1=np.array(([-1,-1,-1],\n",
    "                [0,1,0],\n",
    "                [1,1,1]),\n",
    "                dtype='int')\n",
    "\n",
    "Est_2=np.array(([0,-1,-1],\n",
    "                [1,1,-1],\n",
    "                [1,1,0]),\n",
    "                dtype='int')\n",
    "\n",
    "Est_3=np.array(([1,0,-1],\n",
    "                [1,1,-1],\n",
    "                [1,0,-1]),\n",
    "                dtype='int')\n",
    "\n",
    "Est_4=np.array(([1,1,0],\n",
    "                [1,1,-1],\n",
    "                [0,-1,-1]),\n",
    "                dtype='int')\n",
    "\n",
    "Est_5=np.array(([1,1,1],\n",
    "                [0,1,0],\n",
    "                [-1,-1,-1]),\n",
    "                dtype='int')\n",
    "\n",
    "Est_6=np.array(([0,1,1],\n",
    "                [-1,1,1],\n",
    "                [-1,-1,0]),\n",
    "                dtype='int')\n",
    "\n",
    "Est_7=np.array(([-1,0,1],\n",
    "                [-1,1,1],\n",
    "                [-1,0,1]),\n",
    "                dtype='int')\n",
    "\n",
    "Est_8=np.array(([-1,-1,0],\n",
    "                [-1,1,1],\n",
    "                [0,1,1]),\n",
    "                dtype='int')\n",
    "\n",
    "result=Adelgazamiento_Multiple(test,[Est_1,Est_3,Est_4,Est_5,Est_6,Est_7,Est_8,Est_1,Est_4,Est_6,Est_6])\n",
    "\n",
    "\n",
    "print(result)\n",
    "\n",
    "#https://alojamientos.us.es/gtocoma/pid/tema5-1.pdf\n",
    "#https://theailearner.com/tag/hit-or-miss-transformation-opencv/\n",
    "#https://docs.opencv.org/4.x/db/d06/tutorial_hitOrMiss.html\n"
   ]
  },
  {
   "cell_type": "markdown",
   "metadata": {},
   "source": [
    "**b. Implementacion del Algoritmo de esqueleto**"
   ]
  },
  {
   "cell_type": "code",
   "execution_count": null,
   "metadata": {},
   "outputs": [],
   "source": []
  },
  {
   "cell_type": "markdown",
   "metadata": {},
   "source": [
    "**c. Funciones vistas en el taller**"
   ]
  },
  {
   "cell_type": "code",
   "execution_count": null,
   "metadata": {},
   "outputs": [],
   "source": []
  }
 ],
 "metadata": {
  "kernelspec": {
   "display_name": "Python 3",
   "language": "python",
   "name": "python3"
  },
  "language_info": {
   "codemirror_mode": {
    "name": "ipython",
    "version": 3
   },
   "file_extension": ".py",
   "mimetype": "text/x-python",
   "name": "python",
   "nbconvert_exporter": "python",
   "pygments_lexer": "ipython3",
   "version": "3.11.6"
  }
 },
 "nbformat": 4,
 "nbformat_minor": 2
}
