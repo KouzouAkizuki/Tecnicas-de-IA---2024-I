{
 "cells": [
  {
   "cell_type": "markdown",
   "metadata": {},
   "source": [
    "### **Taller 1 - Histogramas**\n",
    "\n",
    "#### **Integrantes**\n",
    "\n",
    "- Oscar Leonardo Riveros Perez\n",
    "\n",
    "- Yovany Esneider Vargas Gutierrez"
   ]
  },
  {
   "cell_type": "markdown",
   "metadata": {},
   "source": [
    "**a. Implementacion del Algoritmo de adelgazamiento**"
   ]
  },
  {
   "cell_type": "code",
   "execution_count": null,
   "metadata": {
    "vscode": {
     "languageId": "plaintext"
    }
   },
   "outputs": [],
   "source": [
    "import cv2\n",
    "from IPython.display import Image\n",
    "import numpy as np\n",
    "from matplotlib import pyplot as plt\n",
    "from prettytable import PrettyTable \n",
    "\n",
    "\n",
    "## pip install prettytable \n",
    "Mano_light  =   cv2.imread('Images/Img_Light_1.png',1)\n",
    "Mano_shadow =   cv2.imread('Images/Img_Outdoor_1.png',1)\n",
    "Mano        =   cv2.imread('Images/Img_Indoor_1.png',1)\n",
    "\n",
    "Mano_light_Gray  =   cv2.imread('Images/Img_Light_1.png',0)\n",
    "Mano_shadow_Gray =   cv2.imread('Images/Img_Outdoor_1.png',0)\n",
    "Mano_Gray        =   cv2.imread('Images/Img_Indoor_1.png',0)\n"
   ]
  },
  {
   "cell_type": "code",
   "execution_count": null,
   "metadata": {
    "vscode": {
     "languageId": "plaintext"
    }
   },
   "outputs": [],
   "source": []
  },
  {
   "cell_type": "markdown",
   "metadata": {},
   "source": [
    "**b. Implementacion del Algoritmo de esqueleto**"
   ]
  },
  {
   "cell_type": "code",
   "execution_count": null,
   "metadata": {
    "vscode": {
     "languageId": "plaintext"
    }
   },
   "outputs": [],
   "source": []
  },
  {
   "cell_type": "markdown",
   "metadata": {},
   "source": [
    "**c. Funciones vistas en el taller**"
   ]
  },
  {
   "cell_type": "code",
   "execution_count": null,
   "metadata": {
    "vscode": {
     "languageId": "plaintext"
    }
   },
   "outputs": [],
   "source": []
  }
 ],
 "metadata": {
  "language_info": {
   "name": "python"
  }
 },
 "nbformat": 4,
 "nbformat_minor": 2
}
